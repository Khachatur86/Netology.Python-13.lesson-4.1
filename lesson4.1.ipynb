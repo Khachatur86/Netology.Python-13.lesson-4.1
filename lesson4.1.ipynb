{
 "cells": [
  {
   "cell_type": "code",
   "execution_count": 7,
   "metadata": {},
   "outputs": [],
   "source": [
    "import pandas as pd"
   ]
  },
  {
   "cell_type": "code",
   "execution_count": 22,
   "metadata": {},
   "outputs": [],
   "source": [
    "import os"
   ]
  },
  {
   "cell_type": "code",
   "execution_count": 54,
   "metadata": {},
   "outputs": [],
   "source": [
    "# def files_path(file_name='names'):\n",
    "#     return os.path.join(os.path.dirname(os.path.abspath('__file__')), file_name)"
   ]
  },
  {
   "cell_type": "code",
   "execution_count": null,
   "metadata": {},
   "outputs": [],
   "source": []
  },
  {
   "cell_type": "code",
   "execution_count": 64,
   "metadata": {
    "scrolled": false
   },
   "outputs": [],
   "source": [
    "# for file in os.listdir(files_path()):\n",
    "#     if file.endswith('txt'):\n",
    "#         data=pd.read_csv(os.path.join(files_path(),file))\n"
   ]
  },
  {
   "cell_type": "code",
   "execution_count": 68,
   "metadata": {},
   "outputs": [],
   "source": [
    "def count_top3(*args):\n",
    "    names_by_year = list()\n",
    "    for arg in args:\n",
    "        df = pd.read_csv(f\"names/yob{arg}.txt\", names=['Name','Gender','Count'])\n",
    "        names_by_year.append(df)\n",
    "    names = pd.concat(names_by_year, names=['Year', 'Pos'])\n",
    "    df = names.groupby(['Name', 'Gender'], as_index=False).sum().sort_values(by='Count', ascending=False).head(3)\n",
    "\n",
    "    return list(df.Name)"
   ]
  },
  {
   "cell_type": "code",
   "execution_count": null,
   "metadata": {},
   "outputs": [],
   "source": []
  },
  {
   "cell_type": "code",
   "execution_count": null,
   "metadata": {},
   "outputs": [],
   "source": []
  },
  {
   "cell_type": "code",
   "execution_count": null,
   "metadata": {},
   "outputs": [],
   "source": []
  }
 ],
 "metadata": {
  "kernelspec": {
   "display_name": "Python 3",
   "language": "python",
   "name": "python3"
  },
  "language_info": {
   "codemirror_mode": {
    "name": "ipython",
    "version": 3
   },
   "file_extension": ".py",
   "mimetype": "text/x-python",
   "name": "python",
   "nbconvert_exporter": "python",
   "pygments_lexer": "ipython3",
   "version": "3.6.4"
  }
 },
 "nbformat": 4,
 "nbformat_minor": 2
}
